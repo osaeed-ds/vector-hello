{
  "nbformat": 4,
  "nbformat_minor": 0,
  "metadata": {
    "colab": {
      "provenance": [],
      "authorship_tag": "ABX9TyM0fEV6m7DZJafVkTp0/sZw",
      "include_colab_link": true
    },
    "kernelspec": {
      "name": "python3",
      "display_name": "Python 3"
    },
    "language_info": {
      "name": "python"
    }
  },
  "cells": [
    {
      "cell_type": "markdown",
      "metadata": {
        "id": "view-in-github",
        "colab_type": "text"
      },
      "source": [
        "<a href=\"https://colab.research.google.com/github/osaeed-ds/vector-hello/blob/main/Osaeed_pgVector.ipynb\" target=\"_parent\"><img src=\"https://colab.research.google.com/assets/colab-badge.svg\" alt=\"Open In Colab\"/></a>"
      ]
    },
    {
      "cell_type": "markdown",
      "source": [
        "# **pgVector as a Vector Database**\n",
        "This is a hello world exercise based on the Vector Search quickstart on the LangChain website.\n",
        "https://python.langchain.com/docs/integrations/vectorstores/pgvector\n",
        "\n",
        "The dataset did not work in the example (did not specify where to get the file) so I substituted my own dataset.\n",
        "\n"
      ],
      "metadata": {
        "id": "0RUs9nlOEc7k"
      }
    },
    {
      "cell_type": "markdown",
      "source": [
        "## **Prerequisites**"
      ],
      "metadata": {
        "id": "2iU-bLR8EtGY"
      }
    },
    {
      "cell_type": "code",
      "execution_count": 1,
      "metadata": {
        "colab": {
          "base_uri": "https://localhost:8080/"
        },
        "id": "RypgSL-ZwoYO",
        "outputId": "096f020e-0e21-43ec-e068-0f0411b7fe34"
      },
      "outputs": [
        {
          "output_type": "stream",
          "name": "stdout",
          "text": [
            "Collecting pgVector\n",
            "  Downloading pgvector-0.2.2-py2.py3-none-any.whl (9.2 kB)\n",
            "Collecting openai\n",
            "  Downloading openai-0.28.0-py3-none-any.whl (76 kB)\n",
            "\u001b[2K     \u001b[90m━━━━━━━━━━━━━━━━━━━━━━━━━━━━━━━━━━━━━━━━\u001b[0m \u001b[32m76.5/76.5 kB\u001b[0m \u001b[31m2.1 MB/s\u001b[0m eta \u001b[36m0:00:00\u001b[0m\n",
            "\u001b[?25hCollecting tiktoken\n",
            "  Downloading tiktoken-0.5.1-cp310-cp310-manylinux_2_17_x86_64.manylinux2014_x86_64.whl (2.0 MB)\n",
            "\u001b[2K     \u001b[90m━━━━━━━━━━━━━━━━━━━━━━━━━━━━━━━━━━━━━━━━\u001b[0m \u001b[32m2.0/2.0 MB\u001b[0m \u001b[31m32.9 MB/s\u001b[0m eta \u001b[36m0:00:00\u001b[0m\n",
            "\u001b[?25hCollecting langchain\n",
            "  Downloading langchain-0.0.300-py3-none-any.whl (1.7 MB)\n",
            "\u001b[2K     \u001b[90m━━━━━━━━━━━━━━━━━━━━━━━━━━━━━━━━━━━━━━━━\u001b[0m \u001b[32m1.7/1.7 MB\u001b[0m \u001b[31m57.8 MB/s\u001b[0m eta \u001b[36m0:00:00\u001b[0m\n",
            "\u001b[?25hCollecting psycopg2-binary\n",
            "  Downloading psycopg2_binary-2.9.7-cp310-cp310-manylinux_2_17_x86_64.manylinux2014_x86_64.whl (3.0 MB)\n",
            "\u001b[2K     \u001b[90m━━━━━━━━━━━━━━━━━━━━━━━━━━━━━━━━━━━━━━━━\u001b[0m \u001b[32m3.0/3.0 MB\u001b[0m \u001b[31m63.9 MB/s\u001b[0m eta \u001b[36m0:00:00\u001b[0m\n",
            "\u001b[?25hRequirement already satisfied: numpy in /usr/local/lib/python3.10/dist-packages (from pgVector) (1.23.5)\n",
            "Requirement already satisfied: requests>=2.20 in /usr/local/lib/python3.10/dist-packages (from openai) (2.31.0)\n",
            "Requirement already satisfied: tqdm in /usr/local/lib/python3.10/dist-packages (from openai) (4.66.1)\n",
            "Requirement already satisfied: aiohttp in /usr/local/lib/python3.10/dist-packages (from openai) (3.8.5)\n",
            "Requirement already satisfied: regex>=2022.1.18 in /usr/local/lib/python3.10/dist-packages (from tiktoken) (2023.6.3)\n",
            "Requirement already satisfied: PyYAML>=5.3 in /usr/local/lib/python3.10/dist-packages (from langchain) (6.0.1)\n",
            "Requirement already satisfied: SQLAlchemy<3,>=1.4 in /usr/local/lib/python3.10/dist-packages (from langchain) (2.0.20)\n",
            "Requirement already satisfied: anyio<4.0 in /usr/local/lib/python3.10/dist-packages (from langchain) (3.7.1)\n",
            "Requirement already satisfied: async-timeout<5.0.0,>=4.0.0 in /usr/local/lib/python3.10/dist-packages (from langchain) (4.0.3)\n",
            "Collecting dataclasses-json<0.7,>=0.5.7 (from langchain)\n",
            "  Downloading dataclasses_json-0.6.0-py3-none-any.whl (27 kB)\n",
            "Collecting jsonpatch<2.0,>=1.33 (from langchain)\n",
            "  Downloading jsonpatch-1.33-py2.py3-none-any.whl (12 kB)\n",
            "Collecting langsmith<0.1.0,>=0.0.38 (from langchain)\n",
            "  Downloading langsmith-0.0.40-py3-none-any.whl (39 kB)\n",
            "Requirement already satisfied: numexpr<3.0.0,>=2.8.4 in /usr/local/lib/python3.10/dist-packages (from langchain) (2.8.5)\n",
            "Requirement already satisfied: pydantic<3,>=1 in /usr/local/lib/python3.10/dist-packages (from langchain) (1.10.12)\n",
            "Requirement already satisfied: tenacity<9.0.0,>=8.1.0 in /usr/local/lib/python3.10/dist-packages (from langchain) (8.2.3)\n",
            "Requirement already satisfied: attrs>=17.3.0 in /usr/local/lib/python3.10/dist-packages (from aiohttp->openai) (23.1.0)\n",
            "Requirement already satisfied: charset-normalizer<4.0,>=2.0 in /usr/local/lib/python3.10/dist-packages (from aiohttp->openai) (3.2.0)\n",
            "Requirement already satisfied: multidict<7.0,>=4.5 in /usr/local/lib/python3.10/dist-packages (from aiohttp->openai) (6.0.4)\n",
            "Requirement already satisfied: yarl<2.0,>=1.0 in /usr/local/lib/python3.10/dist-packages (from aiohttp->openai) (1.9.2)\n",
            "Requirement already satisfied: frozenlist>=1.1.1 in /usr/local/lib/python3.10/dist-packages (from aiohttp->openai) (1.4.0)\n",
            "Requirement already satisfied: aiosignal>=1.1.2 in /usr/local/lib/python3.10/dist-packages (from aiohttp->openai) (1.3.1)\n",
            "Requirement already satisfied: idna>=2.8 in /usr/local/lib/python3.10/dist-packages (from anyio<4.0->langchain) (3.4)\n",
            "Requirement already satisfied: sniffio>=1.1 in /usr/local/lib/python3.10/dist-packages (from anyio<4.0->langchain) (1.3.0)\n",
            "Requirement already satisfied: exceptiongroup in /usr/local/lib/python3.10/dist-packages (from anyio<4.0->langchain) (1.1.3)\n",
            "Collecting marshmallow<4.0.0,>=3.18.0 (from dataclasses-json<0.7,>=0.5.7->langchain)\n",
            "  Downloading marshmallow-3.20.1-py3-none-any.whl (49 kB)\n",
            "\u001b[2K     \u001b[90m━━━━━━━━━━━━━━━━━━━━━━━━━━━━━━━━━━━━━━━━\u001b[0m \u001b[32m49.4/49.4 kB\u001b[0m \u001b[31m4.5 MB/s\u001b[0m eta \u001b[36m0:00:00\u001b[0m\n",
            "\u001b[?25hCollecting typing-inspect<1,>=0.4.0 (from dataclasses-json<0.7,>=0.5.7->langchain)\n",
            "  Downloading typing_inspect-0.9.0-py3-none-any.whl (8.8 kB)\n",
            "Collecting jsonpointer>=1.9 (from jsonpatch<2.0,>=1.33->langchain)\n",
            "  Downloading jsonpointer-2.4-py2.py3-none-any.whl (7.8 kB)\n",
            "Requirement already satisfied: typing-extensions>=4.2.0 in /usr/local/lib/python3.10/dist-packages (from pydantic<3,>=1->langchain) (4.5.0)\n",
            "Requirement already satisfied: urllib3<3,>=1.21.1 in /usr/local/lib/python3.10/dist-packages (from requests>=2.20->openai) (2.0.4)\n",
            "Requirement already satisfied: certifi>=2017.4.17 in /usr/local/lib/python3.10/dist-packages (from requests>=2.20->openai) (2023.7.22)\n",
            "Requirement already satisfied: greenlet!=0.4.17 in /usr/local/lib/python3.10/dist-packages (from SQLAlchemy<3,>=1.4->langchain) (2.0.2)\n",
            "Requirement already satisfied: packaging>=17.0 in /usr/local/lib/python3.10/dist-packages (from marshmallow<4.0.0,>=3.18.0->dataclasses-json<0.7,>=0.5.7->langchain) (23.1)\n",
            "Collecting mypy-extensions>=0.3.0 (from typing-inspect<1,>=0.4.0->dataclasses-json<0.7,>=0.5.7->langchain)\n",
            "  Downloading mypy_extensions-1.0.0-py3-none-any.whl (4.7 kB)\n",
            "Installing collected packages: psycopg2-binary, pgVector, mypy-extensions, marshmallow, jsonpointer, typing-inspect, tiktoken, langsmith, jsonpatch, openai, dataclasses-json, langchain\n",
            "Successfully installed dataclasses-json-0.6.0 jsonpatch-1.33 jsonpointer-2.4 langchain-0.0.300 langsmith-0.0.40 marshmallow-3.20.1 mypy-extensions-1.0.0 openai-0.28.0 pgVector-0.2.2 psycopg2-binary-2.9.7 tiktoken-0.5.1 typing-inspect-0.9.0\n"
          ]
        }
      ],
      "source": [
        "!pip install pgVector openai tiktoken langchain psycopg2-binary"
      ]
    },
    {
      "cell_type": "code",
      "source": [
        "from langchain.embeddings.openai import OpenAIEmbeddings\n",
        "from langchain.text_splitter import CharacterTextSplitter\n",
        "from langchain.vectorstores import PGVector\n",
        "from langchain.document_loaders import TextLoader\n",
        "from langchain.docstore.document import Document"
      ],
      "metadata": {
        "id": "z3QPwu9GcK2v"
      },
      "execution_count": 2,
      "outputs": []
    },
    {
      "cell_type": "markdown",
      "source": [
        "## **Embedding Engine**\n",
        "We will use Open AI"
      ],
      "metadata": {
        "id": "mLuJYzU3Dn4-"
      }
    },
    {
      "cell_type": "code",
      "source": [
        "import os\n",
        "import getpass\n",
        "\n",
        "os.environ[\"OPENAI_API_KEY\"] = getpass.getpass(\"OpenAI API Key:\")"
      ],
      "metadata": {
        "colab": {
          "base_uri": "https://localhost:8080/"
        },
        "id": "QA-f7c0FcARc",
        "outputId": "aa065134-b1f9-4d61-d804-e923bfdc6895"
      },
      "execution_count": 3,
      "outputs": [
        {
          "name": "stdout",
          "output_type": "stream",
          "text": [
            "OpenAI API Key:··········\n"
          ]
        }
      ]
    },
    {
      "cell_type": "markdown",
      "source": [
        "## **Dataset**\n",
        "We will use the US Constitution as our dataset"
      ],
      "metadata": {
        "id": "Ca0I4CHQghcH"
      }
    },
    {
      "cell_type": "code",
      "source": [
        "!curl https://www.govinfo.gov/content/pkg/CDOC-110hdoc50/html/CDOC-110hdoc50.htm > constitution.txt"
      ],
      "metadata": {
        "colab": {
          "base_uri": "https://localhost:8080/"
        },
        "id": "1e-__1eIdzJg",
        "outputId": "e6554698-c044-455a-cfd1-0bd4eda10522"
      },
      "execution_count": 4,
      "outputs": [
        {
          "output_type": "stream",
          "name": "stdout",
          "text": [
            "  % Total    % Received % Xferd  Average Speed   Time    Time     Time  Current\n",
            "                                 Dload  Upload   Total   Spent    Left  Speed\n",
            "100  291k    0  291k    0     0   616k      0 --:--:-- --:--:-- --:--:--  617k\n"
          ]
        }
      ]
    },
    {
      "cell_type": "markdown",
      "source": [
        "## **Generate Embeddings**\n",
        "Use LangChain to chunk the dataset and use OpenAI for embeddings."
      ],
      "metadata": {
        "id": "jb7aQvXtgoVR"
      }
    },
    {
      "cell_type": "code",
      "source": [
        "loader = TextLoader(\"constitution.txt\")\n",
        "\n",
        "documents = loader.load()\n",
        "text_splitter = CharacterTextSplitter(chunk_size=1000, chunk_overlap=0)\n",
        "docs = text_splitter.split_documents(documents)\n",
        "\n",
        "embeddings = OpenAIEmbeddings()"
      ],
      "metadata": {
        "colab": {
          "base_uri": "https://localhost:8080/"
        },
        "id": "lKnH7zE0cULn",
        "outputId": "35ce8a0a-d036-471d-cb17-508ad7a68d2c"
      },
      "execution_count": 5,
      "outputs": [
        {
          "output_type": "stream",
          "name": "stderr",
          "text": [
            "WARNING:langchain.text_splitter:Created a chunk of size 4562, which is longer than the specified 1000\n",
            "WARNING:langchain.text_splitter:Created a chunk of size 21641, which is longer than the specified 1000\n",
            "WARNING:langchain.text_splitter:Created a chunk of size 6612, which is longer than the specified 1000\n",
            "WARNING:langchain.text_splitter:Created a chunk of size 2609, which is longer than the specified 1000\n",
            "WARNING:langchain.text_splitter:Created a chunk of size 2239, which is longer than the specified 1000\n",
            "WARNING:langchain.text_splitter:Created a chunk of size 1870, which is longer than the specified 1000\n",
            "WARNING:langchain.text_splitter:Created a chunk of size 2679, which is longer than the specified 1000\n",
            "WARNING:langchain.text_splitter:Created a chunk of size 1111, which is longer than the specified 1000\n",
            "WARNING:langchain.text_splitter:Created a chunk of size 1860, which is longer than the specified 1000\n",
            "WARNING:langchain.text_splitter:Created a chunk of size 2927, which is longer than the specified 1000\n",
            "WARNING:langchain.text_splitter:Created a chunk of size 2233, which is longer than the specified 1000\n",
            "WARNING:langchain.text_splitter:Created a chunk of size 2149, which is longer than the specified 1000\n",
            "WARNING:langchain.text_splitter:Created a chunk of size 1702, which is longer than the specified 1000\n",
            "WARNING:langchain.text_splitter:Created a chunk of size 1615, which is longer than the specified 1000\n",
            "WARNING:langchain.text_splitter:Created a chunk of size 1016, which is longer than the specified 1000\n",
            "WARNING:langchain.text_splitter:Created a chunk of size 1887, which is longer than the specified 1000\n",
            "WARNING:langchain.text_splitter:Created a chunk of size 2394, which is longer than the specified 1000\n",
            "WARNING:langchain.text_splitter:Created a chunk of size 2017, which is longer than the specified 1000\n",
            "WARNING:langchain.text_splitter:Created a chunk of size 1824, which is longer than the specified 1000\n",
            "WARNING:langchain.text_splitter:Created a chunk of size 1588, which is longer than the specified 1000\n",
            "WARNING:langchain.text_splitter:Created a chunk of size 1672, which is longer than the specified 1000\n",
            "WARNING:langchain.text_splitter:Created a chunk of size 1678, which is longer than the specified 1000\n",
            "WARNING:langchain.text_splitter:Created a chunk of size 1721, which is longer than the specified 1000\n",
            "WARNING:langchain.text_splitter:Created a chunk of size 2739, which is longer than the specified 1000\n",
            "WARNING:langchain.text_splitter:Created a chunk of size 1978, which is longer than the specified 1000\n",
            "WARNING:langchain.text_splitter:Created a chunk of size 1591, which is longer than the specified 1000\n",
            "WARNING:langchain.text_splitter:Created a chunk of size 1477, which is longer than the specified 1000\n",
            "WARNING:langchain.text_splitter:Created a chunk of size 1034, which is longer than the specified 1000\n",
            "WARNING:langchain.text_splitter:Created a chunk of size 1025, which is longer than the specified 1000\n",
            "WARNING:langchain.text_splitter:Created a chunk of size 12487, which is longer than the specified 1000\n",
            "WARNING:langchain.text_splitter:Created a chunk of size 3409, which is longer than the specified 1000\n",
            "WARNING:langchain.text_splitter:Created a chunk of size 28779, which is longer than the specified 1000\n",
            "WARNING:langchain.text_splitter:Created a chunk of size 9344, which is longer than the specified 1000\n",
            "WARNING:langchain.text_splitter:Created a chunk of size 8742, which is longer than the specified 1000\n",
            "WARNING:langchain.text_splitter:Created a chunk of size 2733, which is longer than the specified 1000\n",
            "WARNING:langchain.text_splitter:Created a chunk of size 1842, which is longer than the specified 1000\n",
            "WARNING:langchain.text_splitter:Created a chunk of size 4688, which is longer than the specified 1000\n",
            "WARNING:langchain.text_splitter:Created a chunk of size 9278, which is longer than the specified 1000\n",
            "WARNING:langchain.text_splitter:Created a chunk of size 7108, which is longer than the specified 1000\n",
            "WARNING:langchain.text_splitter:Created a chunk of size 5295, which is longer than the specified 1000\n",
            "WARNING:langchain.text_splitter:Created a chunk of size 4497, which is longer than the specified 1000\n",
            "WARNING:langchain.text_splitter:Created a chunk of size 3035, which is longer than the specified 1000\n",
            "WARNING:langchain.text_splitter:Created a chunk of size 5293, which is longer than the specified 1000\n",
            "WARNING:langchain.text_splitter:Created a chunk of size 23409, which is longer than the specified 1000\n",
            "WARNING:langchain.text_splitter:Created a chunk of size 2916, which is longer than the specified 1000\n",
            "WARNING:langchain.text_splitter:Created a chunk of size 13488, which is longer than the specified 1000\n",
            "WARNING:langchain.text_splitter:Created a chunk of size 19609, which is longer than the specified 1000\n",
            "WARNING:langchain.text_splitter:Created a chunk of size 9183, which is longer than the specified 1000\n",
            "WARNING:langchain.text_splitter:Created a chunk of size 1606, which is longer than the specified 1000\n",
            "WARNING:langchain.text_splitter:Created a chunk of size 7562, which is longer than the specified 1000\n",
            "WARNING:langchain.text_splitter:Created a chunk of size 2578, which is longer than the specified 1000\n"
          ]
        }
      ]
    },
    {
      "cell_type": "markdown",
      "source": [
        "## **Connect to pgVector and load the embeddings**"
      ],
      "metadata": {
        "id": "yoq8f5j9hBed"
      }
    },
    {
      "cell_type": "code",
      "source": [
        "# PGVector needs the connection string to the database.\n",
        "#CONNECTION_STRING = \"postgresql+psycopg2://harrisonchase@localhost:5432/test3\"\n",
        "#CONNECTION_STRING = PG_VECTOR_URI\n",
        "\n",
        "\n",
        "# # Alternatively, you can create it from enviornment variables.\n",
        "import os\n",
        "\n",
        "CONNECTION_STRING = PGVector.connection_string_from_db_params(\n",
        "     driver=os.environ.get(\"PGVECTOR_DRIVER\", \"psycopg2\"),\n",
        "     host=os.environ.get(\"PGVECTOR_HOST\", \"osaeed-vector-test-do-user-14702791-0.b.db.ondigitalocean.com\"),\n",
        "     port=int(os.environ.get(\"PGVECTOR_PORT\", \"25060\")),\n",
        "     database=os.environ.get(\"PGVECTOR_DATABASE\", \"defaultdb\"),\n",
        "     user=os.environ.get(\"PGVECTOR_USER\", \"doadmin\"),\n",
        "     password=os.environ.get(\"PGVECTOR_PASSWORD\", \"MYPASSWORD\"),\n",
        ")"
      ],
      "metadata": {
        "id": "VTYStLqieMhQ"
      },
      "execution_count": 7,
      "outputs": []
    },
    {
      "cell_type": "code",
      "source": [
        "# The PGVector Module will try to create a table with the name of the collection.\n",
        "# So, make sure that the collection name is unique and the user has the permission to create a table.\n",
        "\n",
        "COLLECTION_NAME = \"constitution_test\"\n",
        "\n",
        "db = PGVector.from_documents(\n",
        "    embedding=embeddings,\n",
        "    documents=docs,\n",
        "    collection_name=COLLECTION_NAME,\n",
        "    connection_string=CONNECTION_STRING,\n",
        ")"
      ],
      "metadata": {
        "id": "SBWQpdwUeW2P"
      },
      "execution_count": 8,
      "outputs": []
    },
    {
      "cell_type": "markdown",
      "source": [
        "## **Query the DB**"
      ],
      "metadata": {
        "id": "-7jrKxcPhLnZ"
      }
    },
    {
      "cell_type": "code",
      "source": [
        "query = \"What is the role of the Vice President?\"\n",
        "docs_with_score = db.similarity_search_with_score(query)"
      ],
      "metadata": {
        "id": "5qdHr7Y6f5Al"
      },
      "execution_count": 9,
      "outputs": []
    },
    {
      "cell_type": "code",
      "source": [
        "for doc, score in docs_with_score:\n",
        "    print(\"-\" * 80)\n",
        "    print(\"Score: \", score)\n",
        "    print(doc.page_content)\n",
        "    print(\"-\" * 80)"
      ],
      "metadata": {
        "colab": {
          "base_uri": "https://localhost:8080/"
        },
        "id": "7XicQKktfzuD",
        "outputId": "f4177558-44e2-4c72-9a66-561ca37c731a"
      },
      "execution_count": 10,
      "outputs": [
        {
          "output_type": "stream",
          "name": "stdout",
          "text": [
            "--------------------------------------------------------------------------------\n",
            "Score:  0.15975599528813245\n",
            "Section 1. In case of the removal of the President from \n",
            "office or of his death or resignation, the Vice President shall \n",
            "become President.\n",
            "    Section 2. Whenever there is a vacancy in the office of the \n",
            "Vice President, the President shall nominate a Vice President \n",
            "who shall take office upon confirmation by a majority vote of \n",
            "both Houses of Congress.\n",
            "    Section 3. Whenever the President transmits to the \n",
            "President pro tempore of the Senate and the Speaker of the \n",
            "House of Representatives his written declaration that he is \n",
            "unable to discharge the powers and duties of his office, and \n",
            "until he transmits to them a written declaration to the \n",
            "contrary, such powers and duties shall be discharged by the \n",
            "Vice President as Acting President.\n",
            "    Section 4. Whenever the Vice President and a majority of \n",
            "either the principal officers of the executive departments or \n",
            "of such other body as Congress may by law provide, transmit to \n",
            "the President pro tempore of the Senate and the Speaker of the \n",
            "House of Representatives their written declaration that the \n",
            "President is unable to discharge the powers and duties of his \n",
            "office, the Vice President shall immediately assume the powers \n",
            "and duties of the office as Acting President.\n",
            "    Thereafter, when the President transmits to the President \n",
            "pro tempore of the Senate and the Speaker of the House of \n",
            "Representatives his written declaration that no inability \n",
            "exists, he shall resume the powers and duties of his office \n",
            "unless the Vice President and a majority of either the \n",
            "principal officers of the executive department\\17\\ or of such \n",
            "other body as Congress may by law provide, transmit within four \n",
            "days to the President pro tempore of the Senate and the Speaker \n",
            "of the House of Representatives their written declaration that \n",
            "the President is unable to discharge the powers and duties of \n",
            "his office. Thereupon Congress shall decide the issue, \n",
            "assembling within forty-eight hours for that purpose if not in \n",
            "session. If the Congress, within twenty-one days after receipt \n",
            "of the latter written declaration, or, if Congress is not in \n",
            "session, within twenty-one days after Congress is required to \n",
            "assemble, determines by two-thirds vote of both Houses that the \n",
            "President is unable to discharge the powers and duties of his \n",
            "office, the Vice President shall continue to discharge the same \n",
            "as Acting President; otherwise, the President shall resume the \n",
            "powers and duties of his office.\n",
            "---------------------------------------------------------------------------\n",
            "                                   * * * * *                              \n",
            "\\17\\So in original. Probably should be ``departments''.\n",
            "---------------------------------------------------------------------------\n",
            "--------------------------------------------------------------------------------\n",
            "--------------------------------------------------------------------------------\n",
            "Score:  0.17768902645641582\n",
            "The Electors shall meet in their respective states, and \n",
            "vote by ballot for President and Vice-President, one of whom, \n",
            "at least, shall not be an inhabitant of the same state with \n",
            "themselves; they shall name in their ballots the person voted \n",
            "for as President, and in distinct ballots the person voted for \n",
            "as Vice-President, and they shall make distinct lists of all \n",
            "persons voted for as President, and of all persons voted for as \n",
            "Vice-President, and of the number of votes for each, which \n",
            "lists they shall sign and certify, and transmit sealed to the \n",
            "seat of the government of the United States, directed to the \n",
            "President of the Senate;--The President of the Senate shall, in \n",
            "the presence of the Senate and House of Representatives, open \n",
            "all the certificates and the votes shall then be counted;--The \n",
            "person having the greatest number of votes for President, shall \n",
            "be the President, if such number be a majority of the whole \n",
            "number of Electors appointed; and if no person have such \n",
            "majority, then from the persons having the highest numbers not \n",
            "exceeding three on the list of those voted for as President, \n",
            "the House of Representatives shall choose immediately, by \n",
            "ballot, the President. But in choosing the President, the votes \n",
            "shall be taken by states, the representation from each state \n",
            "having one vote; a quorum for this purpose shall consist of a \n",
            "member or members from two-thirds of the states, and a majority \n",
            "of all the states shall be necessary to a choice. And if the \n",
            "House of Representatives shall not choose a President whenever \n",
            "the right of choice shall devolve upon them, before the fourth \n",
            "day of March next following, then the Vice-President shall act \n",
            "as President, as in the case of the death or other \n",
            "constitutional disability of the President.\\14\\--The person \n",
            "having the greatest number of votes as Vice-President, shall be \n",
            "the Vice-President, if such number be a majority of the whole \n",
            "number of Electors appointed, and if no person have a majority, \n",
            "then from the two highest numbers on the list, the Senate shall \n",
            "choose the Vice-President; a quorum for the purpose shall \n",
            "consist of two-thirds of the whole number of Senators, and a \n",
            "majority of the whole number shall be necessary to a choice. \n",
            "But no person constitutionally ineligible to the office of \n",
            "President shall be eligible to that of Vice-President of the \n",
            "United States.\n",
            "---------------------------------------------------------------------------\n",
            "                                   * * * * *                              \n",
            "\\14\\This sentence has been superseded by section 3 of amendment XX.\n",
            "---------------------------------------------------------------------------\n",
            "--------------------------------------------------------------------------------\n",
            "--------------------------------------------------------------------------------\n",
            "Score:  0.18298158594911018\n",
            "Section 1. \\1\\The executive Power shall be vested in a \n",
            "President of the United States of America. He shall hold his \n",
            "Office during the Term of four Years, and, together with the \n",
            "Vice President, chosen for the same Term, be elected, as \n",
            "follows\n",
            "    \\2\\Each State shall appoint, in such Manner as the \n",
            "Legislature thereof may direct, a Number of Electors, equal to \n",
            "the whole Number of Senators and Representatives to which the \n",
            "State may be entitled in the Congress: but no Senator or \n",
            "Representative, or Person holding an Office of Trust or Profit \n",
            "under the United States, shall be appointed an Elector.\n",
            "    \\3\\The Electors shall meet in their respective States, and \n",
            "vote by Ballot for two Persons, of whom one at least shall not \n",
            "be an Inhabitant of the same State with themselves. And they \n",
            "shall make a List of all the Persons voted for, and of the \n",
            "Number of Votes for each; which List they shall sign and \n",
            "certify, and transmit sealed to the Seat of the Government of \n",
            "the United States, directed to the President of the Senate. The \n",
            "President of the Senate shall, in the Presence of the Senate \n",
            "and House of Representatives, open all the Certificates, and \n",
            "the Votes shall then be counted. The Person having the greatest \n",
            "Number of Votes shall be the President, if such Number be a \n",
            "Majority of the whole Number of Electors appointed; and if \n",
            "there be more than one who have such Majority, and have an \n",
            "equal Number of Votes, then the House of Representatives shall \n",
            "immediately chuse by Ballot one of them for President; and if \n",
            "no Person have a Majority, then from the five highest on the \n",
            "List the said House shall in like Manner chuse the President. \n",
            "But in chusing the President, the Votes shall be taken by \n",
            "States, the Representation from each State having one Vote; A \n",
            "quorum for this Purpose shall consist of a Member or Members \n",
            "from two thirds of the States, and a Majority of all the States \n",
            "shall be necessary to a Choice. In every Case, after the Choice \n",
            "of the President, the Person having the greatest Number of \n",
            "Votes of the Electors shall be the Vice President. But if there \n",
            "should remain two or more who have equal Votes, the Senate \n",
            "shall chuse from them by Ballot the Vice President.\\8\\\n",
            "---------------------------------------------------------------------------\n",
            "                                   * * * * *                              \n",
            "\\8\\This clause has been superseded by amendment XII.\n",
            "---------------------------------------------------------------------------\n",
            "    \\4\\The Congress may determine the Time of chusing the \n",
            "Electors, and the Day on which they shall give their Votes; \n",
            "which Day shall be the same throughout the United States.\n",
            "    \\5\\No Person except a natural born Citizen, or a Citizen of \n",
            "the United States, at the time of the Adoption of this \n",
            "Constitution, shall be eligible to the Office of President; \n",
            "neither shall any Person be eligible to that Office who shall \n",
            "not have attained to the Age of thirty five Years, and been \n",
            "fourteen Years a Resident within the United States.\n",
            "    \\6\\In Case of the Removal of the President from Office, or \n",
            "of his Death, Resignation, or Inability to discharge the Powers \n",
            "and Duties of the said Office,\\9\\ the Same shall devolve on the \n",
            "Vice President, and the Congress may by Law provide for the \n",
            "Case of Removal, Death, Resignation or Inability, both of the \n",
            "President and Vice President, declaring what Officer shall then \n",
            "act as President, and such Officer shall act accordingly, until \n",
            "the Disability be removed, or a President shall be elected.\n",
            "---------------------------------------------------------------------------\n",
            "                                   * * * * *                              \n",
            "\\9\\This clause has been affected by amendment XXV.\n",
            "---------------------------------------------------------------------------\n",
            "    \\7\\The President shall, at stated Times, receive for his \n",
            "Services, a Compensation, which shall neither be encreased nor \n",
            "diminished during the Period for which he shall have been \n",
            "elected, and he shall not receive within that Period any other \n",
            "Emolument from the United States, or any of them.\n",
            "    \\8\\Before he enter on the Execution of his Office, he shall \n",
            "take the following Oath or Affirmation:--``I do solemnly swear \n",
            "(or affirm) that I will faithfully execute the Office of \n",
            "President of the United States, and will to the best of my \n",
            "Ability, preserve, protect and defend the Constitution of the \n",
            "United States.''\n",
            "    Section 2. \\1\\The President shall be Commander in Chief of \n",
            "the Army and Navy of the United States, and of the Militia of \n",
            "the several States, when called into the actual Service of the \n",
            "United States; he may require the Opinion, in writing, of the \n",
            "principal Officer in each of the executive Departments, upon \n",
            "any Subject relating to the Duties of their respective Offices, \n",
            "and he shall have Power to grant Reprieves and Pardons for \n",
            "Offences against the United States, except in Cases of \n",
            "Impeachment.\n",
            "    \\2\\He shall have Power, by and with the Advice and Consent \n",
            "of the Senate, to make Treaties, provided two thirds of the \n",
            "Senators present concur; and he shall nominate, and by and with \n",
            "the Advice and Consent of the Senate, shall appoint \n",
            "Ambassadors, other public Ministers and Consuls, Judges of the \n",
            "supreme Court, and all other Officers of the United States, \n",
            "whose Appointments are not herein otherwise provided for, and \n",
            "which shall be established by Law: but the Congress may by Law \n",
            "vest the Appointment of such inferior Officers, as they think \n",
            "proper, in the President alone, in the Courts of Law, or in the \n",
            "Heads of Departments.\n",
            "    \\3\\The President shall have Power to fill up all Vacancies \n",
            "that may happen during the Recess of the Senate, by granting \n",
            "Commissions which shall expire at the End of their next \n",
            "Session.\n",
            "    Section 3. He shall from time to time give to the Congress \n",
            "Information of the State of the Union, and recommend to their \n",
            "Consideration such Measures as he shall judge necessary and \n",
            "expedient; he may, on extraordinary Occasions, convene both \n",
            "Houses, or either of them, and in Case of Disagreement between \n",
            "them, with Respect to the Time of Adjournment, he may adjourn \n",
            "them to such Time as he shall think proper; he shall receive \n",
            "Ambassadors and other public Ministers; he shall take Care that \n",
            "the Laws be faithfully executed, and shall Commission all the \n",
            "Officers of the United States.\n",
            "    Section 4. The President, Vice President and all civil \n",
            "Officers of the United States, shall be removed from Office on \n",
            "Impeachment for, and Conviction of, Treason, Bribery, or other \n",
            "high Crimes and Misdemeanors.\n",
            "--------------------------------------------------------------------------------\n",
            "--------------------------------------------------------------------------------\n",
            "Score:  0.19787380689006429\n",
            "Section 1. The terms of the President and Vice President \n",
            "shall end at noon on the 20th day of January, and the terms of \n",
            "Senators and Representatives at noon on the 3d day of January, \n",
            "of the years in which such terms would have ended if this \n",
            "article had not been ratified; and the terms of their \n",
            "successors shall then begin.\n",
            "    Section 2. The Congress shall assemble at least once in \n",
            "every year, and such meeting shall begin at noon on the 3d day \n",
            "of January, unless they shall by law appoint a different day.\n",
            "    Section 3. If, at the time fixed for the beginning of the \n",
            "term of the President, the President elect shall have died, the \n",
            "Vice President elect shall become President. If a President \n",
            "shall not have been chosen before the time fixed for the \n",
            "beginning of his term, or if the President elect shall have \n",
            "failed to qualify, then the Vice President elect shall act as \n",
            "President until a President shall have qualified; and the \n",
            "Congress may by law provide for the case wherein neither a \n",
            "President elect nor a Vice President elect shall have \n",
            "qualified, declaring who shall then act as President, or the \n",
            "manner in which one who is to act shall be selected, and such \n",
            "person shall act accordingly until a President or Vice \n",
            "President shall have qualified.\n",
            "    Section 4. The Congress may by law provide for the case of \n",
            "the death of any of the persons from whom the House of \n",
            "Representatives may choose a President whenever the right of \n",
            "choice shall have devolved upon them, and for the case of the \n",
            "death of any of the persons from whom the Senate may choose a \n",
            "Vice President whenever the right of choice shall have devolved \n",
            "upon them.\n",
            "    Section 5. Sections 1 and 2 shall take effect on the 15th \n",
            "day of October following the ratification of this article.\n",
            "    Section 6. This article shall be inoperative unless it \n",
            "shall have been ratified as an amendment to the Constitution by \n",
            "the legislatures of three-fourths of the several States within \n",
            "seven years from the date of its submission.\n",
            "--------------------------------------------------------------------------------\n"
          ]
        }
      ]
    }
  ]
}